{
 "cells": [
  {
   "cell_type": "markdown",
   "metadata": {},
   "source": [
    "# Data visualization on Ford GoBike Data\n",
    "## by Avijit Kumar Ghosh\n",
    "\n",
    "## Preliminary Wrangling\n",
    "\n",
    "#### Introduction\n",
    "\n",
    "Bay Wheels is a regional public bicycle sharing system in the San Francisco Bay Area, California operated by Motivate (a company based in New York City that operates bicycle sharing systems in the United States), in a partnership with the Metropolitan Transportation Commission and the Bay Area Air Quality Management District.Beginning operation in August 2013 as Bay Area Bike Share, the Bay Wheels system currently has over 2,600 bicycles in 262 stations across San Francisco, East Bay and San Jose. On June 28, 2017, the system officially re-launched as Ford GoBike in a partnership with Ford Motor Company.After Motivate's acquisition by Lyft, the system was subsequently renamed to Bay Wheels in June 2019.The system is expected to expand to 7,000 bicycles around 540 stations in San Francisco, Oakland, Berkeley, Emeryville, and San Jose. Bay Wheels is the first regional and large-scale bicycle sharing system deployed in California and on the West Coast of the United States. (Source : Wikipedia)\n",
    "\n",
    "I have taken a datasets of Ford GoBike datasets which renders information about different aspects for the year of 2017."
   ]
  },
  {
   "cell_type": "markdown",
   "metadata": {},
   "source": []
  },
  {
   "cell_type": "markdown",
   "metadata": {},
   "source": [
    "#### Data Loading"
   ]
  },
  {
   "cell_type": "code",
   "execution_count": 140,
   "metadata": {},
   "outputs": [],
   "source": [
    "# import all packages and set plots to be embedded inline\n",
    "import numpy as np\n",
    "import pandas as pd\n",
    "import matplotlib.pyplot as plt\n",
    "import seaborn as sb\n",
    "\n",
    "%matplotlib inline"
   ]
  },
  {
   "cell_type": "code",
   "execution_count": 141,
   "metadata": {},
   "outputs": [
    {
     "data": {
      "text/html": [
       "<div>\n",
       "<style scoped>\n",
       "    .dataframe tbody tr th:only-of-type {\n",
       "        vertical-align: middle;\n",
       "    }\n",
       "\n",
       "    .dataframe tbody tr th {\n",
       "        vertical-align: top;\n",
       "    }\n",
       "\n",
       "    .dataframe thead th {\n",
       "        text-align: right;\n",
       "    }\n",
       "</style>\n",
       "<table border=\"1\" class=\"dataframe\">\n",
       "  <thead>\n",
       "    <tr style=\"text-align: right;\">\n",
       "      <th></th>\n",
       "      <th>duration_sec</th>\n",
       "      <th>start_time</th>\n",
       "      <th>end_time</th>\n",
       "      <th>start_station_id</th>\n",
       "      <th>start_station_name</th>\n",
       "      <th>start_station_latitude</th>\n",
       "      <th>start_station_longitude</th>\n",
       "      <th>end_station_id</th>\n",
       "      <th>end_station_name</th>\n",
       "      <th>end_station_latitude</th>\n",
       "      <th>end_station_longitude</th>\n",
       "      <th>bike_id</th>\n",
       "      <th>user_type</th>\n",
       "      <th>member_birth_year</th>\n",
       "      <th>member_gender</th>\n",
       "    </tr>\n",
       "  </thead>\n",
       "  <tbody>\n",
       "    <tr>\n",
       "      <th>0</th>\n",
       "      <td>80110</td>\n",
       "      <td>2017-12-31 16:57:39.6540</td>\n",
       "      <td>2018-01-01 15:12:50.2450</td>\n",
       "      <td>74</td>\n",
       "      <td>Laguna St at Hayes St</td>\n",
       "      <td>37.776435</td>\n",
       "      <td>-122.426244</td>\n",
       "      <td>43</td>\n",
       "      <td>San Francisco Public Library (Grove St at Hyde...</td>\n",
       "      <td>37.778768</td>\n",
       "      <td>-122.415929</td>\n",
       "      <td>96</td>\n",
       "      <td>Customer</td>\n",
       "      <td>1987.0</td>\n",
       "      <td>Male</td>\n",
       "    </tr>\n",
       "    <tr>\n",
       "      <th>1</th>\n",
       "      <td>78800</td>\n",
       "      <td>2017-12-31 15:56:34.8420</td>\n",
       "      <td>2018-01-01 13:49:55.6170</td>\n",
       "      <td>284</td>\n",
       "      <td>Yerba Buena Center for the Arts (Howard St at ...</td>\n",
       "      <td>37.784872</td>\n",
       "      <td>-122.400876</td>\n",
       "      <td>96</td>\n",
       "      <td>Dolores St at 15th St</td>\n",
       "      <td>37.766210</td>\n",
       "      <td>-122.426614</td>\n",
       "      <td>88</td>\n",
       "      <td>Customer</td>\n",
       "      <td>1965.0</td>\n",
       "      <td>Female</td>\n",
       "    </tr>\n",
       "    <tr>\n",
       "      <th>2</th>\n",
       "      <td>45768</td>\n",
       "      <td>2017-12-31 22:45:48.4110</td>\n",
       "      <td>2018-01-01 11:28:36.8830</td>\n",
       "      <td>245</td>\n",
       "      <td>Downtown Berkeley BART</td>\n",
       "      <td>37.870348</td>\n",
       "      <td>-122.267764</td>\n",
       "      <td>245</td>\n",
       "      <td>Downtown Berkeley BART</td>\n",
       "      <td>37.870348</td>\n",
       "      <td>-122.267764</td>\n",
       "      <td>1094</td>\n",
       "      <td>Customer</td>\n",
       "      <td>NaN</td>\n",
       "      <td>NaN</td>\n",
       "    </tr>\n",
       "    <tr>\n",
       "      <th>3</th>\n",
       "      <td>62172</td>\n",
       "      <td>2017-12-31 17:31:10.6360</td>\n",
       "      <td>2018-01-01 10:47:23.5310</td>\n",
       "      <td>60</td>\n",
       "      <td>8th St at Ringold St</td>\n",
       "      <td>37.774520</td>\n",
       "      <td>-122.409449</td>\n",
       "      <td>5</td>\n",
       "      <td>Powell St BART Station (Market St at 5th St)</td>\n",
       "      <td>37.783899</td>\n",
       "      <td>-122.408445</td>\n",
       "      <td>2831</td>\n",
       "      <td>Customer</td>\n",
       "      <td>NaN</td>\n",
       "      <td>NaN</td>\n",
       "    </tr>\n",
       "    <tr>\n",
       "      <th>4</th>\n",
       "      <td>43603</td>\n",
       "      <td>2017-12-31 14:23:14.0010</td>\n",
       "      <td>2018-01-01 02:29:57.5710</td>\n",
       "      <td>239</td>\n",
       "      <td>Bancroft Way at Telegraph Ave</td>\n",
       "      <td>37.868813</td>\n",
       "      <td>-122.258764</td>\n",
       "      <td>247</td>\n",
       "      <td>Fulton St at Bancroft Way</td>\n",
       "      <td>37.867789</td>\n",
       "      <td>-122.265896</td>\n",
       "      <td>3167</td>\n",
       "      <td>Subscriber</td>\n",
       "      <td>1997.0</td>\n",
       "      <td>Female</td>\n",
       "    </tr>\n",
       "  </tbody>\n",
       "</table>\n",
       "</div>"
      ],
      "text/plain": [
       "   duration_sec                start_time                  end_time  \\\n",
       "0         80110  2017-12-31 16:57:39.6540  2018-01-01 15:12:50.2450   \n",
       "1         78800  2017-12-31 15:56:34.8420  2018-01-01 13:49:55.6170   \n",
       "2         45768  2017-12-31 22:45:48.4110  2018-01-01 11:28:36.8830   \n",
       "3         62172  2017-12-31 17:31:10.6360  2018-01-01 10:47:23.5310   \n",
       "4         43603  2017-12-31 14:23:14.0010  2018-01-01 02:29:57.5710   \n",
       "\n",
       "   start_station_id                                 start_station_name  \\\n",
       "0                74                              Laguna St at Hayes St   \n",
       "1               284  Yerba Buena Center for the Arts (Howard St at ...   \n",
       "2               245                             Downtown Berkeley BART   \n",
       "3                60                               8th St at Ringold St   \n",
       "4               239                      Bancroft Way at Telegraph Ave   \n",
       "\n",
       "   start_station_latitude  start_station_longitude  end_station_id  \\\n",
       "0               37.776435              -122.426244              43   \n",
       "1               37.784872              -122.400876              96   \n",
       "2               37.870348              -122.267764             245   \n",
       "3               37.774520              -122.409449               5   \n",
       "4               37.868813              -122.258764             247   \n",
       "\n",
       "                                    end_station_name  end_station_latitude  \\\n",
       "0  San Francisco Public Library (Grove St at Hyde...             37.778768   \n",
       "1                              Dolores St at 15th St             37.766210   \n",
       "2                             Downtown Berkeley BART             37.870348   \n",
       "3       Powell St BART Station (Market St at 5th St)             37.783899   \n",
       "4                          Fulton St at Bancroft Way             37.867789   \n",
       "\n",
       "   end_station_longitude  bike_id   user_type  member_birth_year member_gender  \n",
       "0            -122.415929       96    Customer             1987.0          Male  \n",
       "1            -122.426614       88    Customer             1965.0        Female  \n",
       "2            -122.267764     1094    Customer                NaN           NaN  \n",
       "3            -122.408445     2831    Customer                NaN           NaN  \n",
       "4            -122.265896     3167  Subscriber             1997.0        Female  "
      ]
     },
     "execution_count": 141,
     "metadata": {},
     "output_type": "execute_result"
    }
   ],
   "source": [
    "df=pd.read_csv('2017-fordgobike-tripdata.csv')\n",
    "df.head()"
   ]
  },
  {
   "cell_type": "code",
   "execution_count": 142,
   "metadata": {},
   "outputs": [
    {
     "name": "stdout",
     "output_type": "stream",
     "text": [
      "<class 'pandas.core.frame.DataFrame'>\n",
      "RangeIndex: 519700 entries, 0 to 519699\n",
      "Data columns (total 15 columns):\n",
      "duration_sec               519700 non-null int64\n",
      "start_time                 519700 non-null object\n",
      "end_time                   519700 non-null object\n",
      "start_station_id           519700 non-null int64\n",
      "start_station_name         519700 non-null object\n",
      "start_station_latitude     519700 non-null float64\n",
      "start_station_longitude    519700 non-null float64\n",
      "end_station_id             519700 non-null int64\n",
      "end_station_name           519700 non-null object\n",
      "end_station_latitude       519700 non-null float64\n",
      "end_station_longitude      519700 non-null float64\n",
      "bike_id                    519700 non-null int64\n",
      "user_type                  519700 non-null object\n",
      "member_birth_year          453159 non-null float64\n",
      "member_gender              453238 non-null object\n",
      "dtypes: float64(5), int64(4), object(6)\n",
      "memory usage: 59.5+ MB\n"
     ]
    }
   ],
   "source": [
    "#checking columns datatypes\n",
    "df.info()"
   ]
  },
  {
   "cell_type": "code",
   "execution_count": 143,
   "metadata": {},
   "outputs": [
    {
     "data": {
      "text/html": [
       "<div>\n",
       "<style scoped>\n",
       "    .dataframe tbody tr th:only-of-type {\n",
       "        vertical-align: middle;\n",
       "    }\n",
       "\n",
       "    .dataframe tbody tr th {\n",
       "        vertical-align: top;\n",
       "    }\n",
       "\n",
       "    .dataframe thead th {\n",
       "        text-align: right;\n",
       "    }\n",
       "</style>\n",
       "<table border=\"1\" class=\"dataframe\">\n",
       "  <thead>\n",
       "    <tr style=\"text-align: right;\">\n",
       "      <th></th>\n",
       "      <th>duration_sec</th>\n",
       "      <th>start_station_id</th>\n",
       "      <th>start_station_latitude</th>\n",
       "      <th>start_station_longitude</th>\n",
       "      <th>end_station_id</th>\n",
       "      <th>end_station_latitude</th>\n",
       "      <th>end_station_longitude</th>\n",
       "      <th>bike_id</th>\n",
       "      <th>member_birth_year</th>\n",
       "    </tr>\n",
       "  </thead>\n",
       "  <tbody>\n",
       "    <tr>\n",
       "      <th>count</th>\n",
       "      <td>519700.000000</td>\n",
       "      <td>519700.000000</td>\n",
       "      <td>519700.000000</td>\n",
       "      <td>519700.000000</td>\n",
       "      <td>519700.000000</td>\n",
       "      <td>519700.000000</td>\n",
       "      <td>519700.000000</td>\n",
       "      <td>519700.000000</td>\n",
       "      <td>453159.000000</td>\n",
       "    </tr>\n",
       "    <tr>\n",
       "      <th>mean</th>\n",
       "      <td>1099.009521</td>\n",
       "      <td>95.034245</td>\n",
       "      <td>37.771653</td>\n",
       "      <td>-122.363927</td>\n",
       "      <td>92.184041</td>\n",
       "      <td>37.771844</td>\n",
       "      <td>-122.363236</td>\n",
       "      <td>1672.533079</td>\n",
       "      <td>1980.404787</td>\n",
       "    </tr>\n",
       "    <tr>\n",
       "      <th>std</th>\n",
       "      <td>3444.146451</td>\n",
       "      <td>86.083078</td>\n",
       "      <td>0.086305</td>\n",
       "      <td>0.105573</td>\n",
       "      <td>84.969491</td>\n",
       "      <td>0.086224</td>\n",
       "      <td>0.105122</td>\n",
       "      <td>971.356959</td>\n",
       "      <td>10.513488</td>\n",
       "    </tr>\n",
       "    <tr>\n",
       "      <th>min</th>\n",
       "      <td>61.000000</td>\n",
       "      <td>3.000000</td>\n",
       "      <td>37.317298</td>\n",
       "      <td>-122.444293</td>\n",
       "      <td>3.000000</td>\n",
       "      <td>37.317298</td>\n",
       "      <td>-122.444293</td>\n",
       "      <td>10.000000</td>\n",
       "      <td>1886.000000</td>\n",
       "    </tr>\n",
       "    <tr>\n",
       "      <th>25%</th>\n",
       "      <td>382.000000</td>\n",
       "      <td>24.000000</td>\n",
       "      <td>37.773492</td>\n",
       "      <td>-122.411726</td>\n",
       "      <td>23.000000</td>\n",
       "      <td>37.774520</td>\n",
       "      <td>-122.410345</td>\n",
       "      <td>787.000000</td>\n",
       "      <td>1974.000000</td>\n",
       "    </tr>\n",
       "    <tr>\n",
       "      <th>50%</th>\n",
       "      <td>596.000000</td>\n",
       "      <td>67.000000</td>\n",
       "      <td>37.783521</td>\n",
       "      <td>-122.398870</td>\n",
       "      <td>66.000000</td>\n",
       "      <td>37.783830</td>\n",
       "      <td>-122.398525</td>\n",
       "      <td>1728.500000</td>\n",
       "      <td>1983.000000</td>\n",
       "    </tr>\n",
       "    <tr>\n",
       "      <th>75%</th>\n",
       "      <td>938.000000</td>\n",
       "      <td>139.000000</td>\n",
       "      <td>37.795392</td>\n",
       "      <td>-122.391034</td>\n",
       "      <td>134.000000</td>\n",
       "      <td>37.795392</td>\n",
       "      <td>-122.391034</td>\n",
       "      <td>2520.000000</td>\n",
       "      <td>1988.000000</td>\n",
       "    </tr>\n",
       "    <tr>\n",
       "      <th>max</th>\n",
       "      <td>86369.000000</td>\n",
       "      <td>340.000000</td>\n",
       "      <td>37.880222</td>\n",
       "      <td>-121.874119</td>\n",
       "      <td>340.000000</td>\n",
       "      <td>37.880222</td>\n",
       "      <td>-121.874119</td>\n",
       "      <td>3733.000000</td>\n",
       "      <td>1999.000000</td>\n",
       "    </tr>\n",
       "  </tbody>\n",
       "</table>\n",
       "</div>"
      ],
      "text/plain": [
       "        duration_sec  start_station_id  start_station_latitude  \\\n",
       "count  519700.000000     519700.000000           519700.000000   \n",
       "mean     1099.009521         95.034245               37.771653   \n",
       "std      3444.146451         86.083078                0.086305   \n",
       "min        61.000000          3.000000               37.317298   \n",
       "25%       382.000000         24.000000               37.773492   \n",
       "50%       596.000000         67.000000               37.783521   \n",
       "75%       938.000000        139.000000               37.795392   \n",
       "max     86369.000000        340.000000               37.880222   \n",
       "\n",
       "       start_station_longitude  end_station_id  end_station_latitude  \\\n",
       "count            519700.000000   519700.000000         519700.000000   \n",
       "mean               -122.363927       92.184041             37.771844   \n",
       "std                   0.105573       84.969491              0.086224   \n",
       "min                -122.444293        3.000000             37.317298   \n",
       "25%                -122.411726       23.000000             37.774520   \n",
       "50%                -122.398870       66.000000             37.783830   \n",
       "75%                -122.391034      134.000000             37.795392   \n",
       "max                -121.874119      340.000000             37.880222   \n",
       "\n",
       "       end_station_longitude        bike_id  member_birth_year  \n",
       "count          519700.000000  519700.000000      453159.000000  \n",
       "mean             -122.363236    1672.533079        1980.404787  \n",
       "std                 0.105122     971.356959          10.513488  \n",
       "min              -122.444293      10.000000        1886.000000  \n",
       "25%              -122.410345     787.000000        1974.000000  \n",
       "50%              -122.398525    1728.500000        1983.000000  \n",
       "75%              -122.391034    2520.000000        1988.000000  \n",
       "max              -121.874119    3733.000000        1999.000000  "
      ]
     },
     "execution_count": 143,
     "metadata": {},
     "output_type": "execute_result"
    }
   ],
   "source": [
    "#data description\n",
    "df.describe()"
   ]
  },
  {
   "cell_type": "code",
   "execution_count": 144,
   "metadata": {},
   "outputs": [
    {
     "data": {
      "text/html": [
       "<div>\n",
       "<style scoped>\n",
       "    .dataframe tbody tr th:only-of-type {\n",
       "        vertical-align: middle;\n",
       "    }\n",
       "\n",
       "    .dataframe tbody tr th {\n",
       "        vertical-align: top;\n",
       "    }\n",
       "\n",
       "    .dataframe thead th {\n",
       "        text-align: right;\n",
       "    }\n",
       "</style>\n",
       "<table border=\"1\" class=\"dataframe\">\n",
       "  <thead>\n",
       "    <tr style=\"text-align: right;\">\n",
       "      <th></th>\n",
       "      <th>duration_sec</th>\n",
       "      <th>start_time</th>\n",
       "      <th>end_time</th>\n",
       "      <th>start_station_id</th>\n",
       "      <th>start_station_name</th>\n",
       "      <th>start_station_latitude</th>\n",
       "      <th>start_station_longitude</th>\n",
       "      <th>end_station_id</th>\n",
       "      <th>end_station_name</th>\n",
       "      <th>end_station_latitude</th>\n",
       "      <th>end_station_longitude</th>\n",
       "      <th>bike_id</th>\n",
       "      <th>user_type</th>\n",
       "      <th>member_birth_year</th>\n",
       "      <th>member_gender</th>\n",
       "    </tr>\n",
       "  </thead>\n",
       "  <tbody>\n",
       "    <tr>\n",
       "      <th>193985</th>\n",
       "      <td>665</td>\n",
       "      <td>2017-10-28 10:07:40.4900</td>\n",
       "      <td>2017-10-28 10:18:45.5970</td>\n",
       "      <td>28</td>\n",
       "      <td>The Embarcadero at Bryant St</td>\n",
       "      <td>37.787168</td>\n",
       "      <td>-122.388098</td>\n",
       "      <td>6</td>\n",
       "      <td>The Embarcadero at Sansome St</td>\n",
       "      <td>37.804770</td>\n",
       "      <td>-122.403234</td>\n",
       "      <td>3002</td>\n",
       "      <td>Subscriber</td>\n",
       "      <td>1956.0</td>\n",
       "      <td>Male</td>\n",
       "    </tr>\n",
       "    <tr>\n",
       "      <th>373727</th>\n",
       "      <td>917</td>\n",
       "      <td>2017-09-06 18:28:43.8050</td>\n",
       "      <td>2017-09-06 18:44:00.8050</td>\n",
       "      <td>37</td>\n",
       "      <td>2nd St at Folsom St</td>\n",
       "      <td>37.785000</td>\n",
       "      <td>-122.395936</td>\n",
       "      <td>76</td>\n",
       "      <td>McCoppin St at Valencia St</td>\n",
       "      <td>37.771662</td>\n",
       "      <td>-122.422423</td>\n",
       "      <td>2037</td>\n",
       "      <td>Subscriber</td>\n",
       "      <td>1990.0</td>\n",
       "      <td>Female</td>\n",
       "    </tr>\n",
       "    <tr>\n",
       "      <th>342147</th>\n",
       "      <td>857</td>\n",
       "      <td>2017-09-16 09:03:14.8650</td>\n",
       "      <td>2017-09-16 09:17:32.5630</td>\n",
       "      <td>107</td>\n",
       "      <td>17th St at Dolores St</td>\n",
       "      <td>37.763015</td>\n",
       "      <td>-122.426497</td>\n",
       "      <td>3</td>\n",
       "      <td>Powell St BART Station (Market St at 4th St)</td>\n",
       "      <td>37.786375</td>\n",
       "      <td>-122.404904</td>\n",
       "      <td>334</td>\n",
       "      <td>Subscriber</td>\n",
       "      <td>1989.0</td>\n",
       "      <td>Male</td>\n",
       "    </tr>\n",
       "    <tr>\n",
       "      <th>462296</th>\n",
       "      <td>1365</td>\n",
       "      <td>2017-08-05 13:38:49.2710</td>\n",
       "      <td>2017-08-05 14:01:34.6830</td>\n",
       "      <td>3</td>\n",
       "      <td>Powell St BART Station (Market St at 4th St)</td>\n",
       "      <td>37.786375</td>\n",
       "      <td>-122.404904</td>\n",
       "      <td>5</td>\n",
       "      <td>Powell St BART Station (Market St at 5th St)</td>\n",
       "      <td>37.783899</td>\n",
       "      <td>-122.408445</td>\n",
       "      <td>234</td>\n",
       "      <td>Customer</td>\n",
       "      <td>NaN</td>\n",
       "      <td>NaN</td>\n",
       "    </tr>\n",
       "    <tr>\n",
       "      <th>492119</th>\n",
       "      <td>1061</td>\n",
       "      <td>2017-07-21 12:46:49.2290</td>\n",
       "      <td>2017-07-21 13:04:30.2410</td>\n",
       "      <td>15</td>\n",
       "      <td>San Francisco Ferry Building (Harry Bridges Pl...</td>\n",
       "      <td>37.795392</td>\n",
       "      <td>-122.394203</td>\n",
       "      <td>44</td>\n",
       "      <td>Civic Center/UN Plaza BART Station (Market St ...</td>\n",
       "      <td>37.781074</td>\n",
       "      <td>-122.411738</td>\n",
       "      <td>1932</td>\n",
       "      <td>Subscriber</td>\n",
       "      <td>1963.0</td>\n",
       "      <td>Male</td>\n",
       "    </tr>\n",
       "  </tbody>\n",
       "</table>\n",
       "</div>"
      ],
      "text/plain": [
       "        duration_sec                start_time                  end_time  \\\n",
       "193985           665  2017-10-28 10:07:40.4900  2017-10-28 10:18:45.5970   \n",
       "373727           917  2017-09-06 18:28:43.8050  2017-09-06 18:44:00.8050   \n",
       "342147           857  2017-09-16 09:03:14.8650  2017-09-16 09:17:32.5630   \n",
       "462296          1365  2017-08-05 13:38:49.2710  2017-08-05 14:01:34.6830   \n",
       "492119          1061  2017-07-21 12:46:49.2290  2017-07-21 13:04:30.2410   \n",
       "\n",
       "        start_station_id                                 start_station_name  \\\n",
       "193985                28                       The Embarcadero at Bryant St   \n",
       "373727                37                                2nd St at Folsom St   \n",
       "342147               107                              17th St at Dolores St   \n",
       "462296                 3       Powell St BART Station (Market St at 4th St)   \n",
       "492119                15  San Francisco Ferry Building (Harry Bridges Pl...   \n",
       "\n",
       "        start_station_latitude  start_station_longitude  end_station_id  \\\n",
       "193985               37.787168              -122.388098               6   \n",
       "373727               37.785000              -122.395936              76   \n",
       "342147               37.763015              -122.426497               3   \n",
       "462296               37.786375              -122.404904               5   \n",
       "492119               37.795392              -122.394203              44   \n",
       "\n",
       "                                         end_station_name  \\\n",
       "193985                      The Embarcadero at Sansome St   \n",
       "373727                         McCoppin St at Valencia St   \n",
       "342147       Powell St BART Station (Market St at 4th St)   \n",
       "462296       Powell St BART Station (Market St at 5th St)   \n",
       "492119  Civic Center/UN Plaza BART Station (Market St ...   \n",
       "\n",
       "        end_station_latitude  end_station_longitude  bike_id   user_type  \\\n",
       "193985             37.804770            -122.403234     3002  Subscriber   \n",
       "373727             37.771662            -122.422423     2037  Subscriber   \n",
       "342147             37.786375            -122.404904      334  Subscriber   \n",
       "462296             37.783899            -122.408445      234    Customer   \n",
       "492119             37.781074            -122.411738     1932  Subscriber   \n",
       "\n",
       "        member_birth_year member_gender  \n",
       "193985             1956.0          Male  \n",
       "373727             1990.0        Female  \n",
       "342147             1989.0          Male  \n",
       "462296                NaN           NaN  \n",
       "492119             1963.0          Male  "
      ]
     },
     "execution_count": 144,
     "metadata": {},
     "output_type": "execute_result"
    }
   ],
   "source": [
    "# fetching sample data\n",
    "df.sample(5)"
   ]
  },
  {
   "cell_type": "markdown",
   "metadata": {},
   "source": [
    ">Columns 'start_time' and 'end_time' are in object format which must be converted to datetime for convenience"
   ]
  },
  {
   "cell_type": "code",
   "execution_count": 145,
   "metadata": {},
   "outputs": [],
   "source": [
    "#converting start_time and end_time to datetime datatype\n",
    "df['start_time']=pd.to_datetime(df['start_time'])\n",
    "df['end_time']=pd.to_datetime(df['end_time'])"
   ]
  },
  {
   "cell_type": "code",
   "execution_count": 146,
   "metadata": {},
   "outputs": [
    {
     "name": "stdout",
     "output_type": "stream",
     "text": [
      "<class 'pandas.core.frame.DataFrame'>\n",
      "RangeIndex: 519700 entries, 0 to 519699\n",
      "Data columns (total 15 columns):\n",
      "duration_sec               519700 non-null int64\n",
      "start_time                 519700 non-null datetime64[ns]\n",
      "end_time                   519700 non-null datetime64[ns]\n",
      "start_station_id           519700 non-null int64\n",
      "start_station_name         519700 non-null object\n",
      "start_station_latitude     519700 non-null float64\n",
      "start_station_longitude    519700 non-null float64\n",
      "end_station_id             519700 non-null int64\n",
      "end_station_name           519700 non-null object\n",
      "end_station_latitude       519700 non-null float64\n",
      "end_station_longitude      519700 non-null float64\n",
      "bike_id                    519700 non-null int64\n",
      "user_type                  519700 non-null object\n",
      "member_birth_year          453159 non-null float64\n",
      "member_gender              453238 non-null object\n",
      "dtypes: datetime64[ns](2), float64(5), int64(4), object(4)\n",
      "memory usage: 59.5+ MB\n"
     ]
    }
   ],
   "source": [
    "#again checking column info\n",
    "df.info()"
   ]
  },
  {
   "cell_type": "markdown",
   "metadata": {},
   "source": [
    "> There exists null values in the columns 'member_birth_year' and 'member_gender', these need to be omitted."
   ]
  },
  {
   "cell_type": "code",
   "execution_count": 147,
   "metadata": {},
   "outputs": [],
   "source": [
    "#Removing null values from member_gender\n",
    "df=df[df.member_gender.isnull()==False]\n"
   ]
  },
  {
   "cell_type": "code",
   "execution_count": 148,
   "metadata": {},
   "outputs": [],
   "source": [
    "#Removing null values from member_birth year\n",
    "df=df[df.member_birth_year.isnull()==False]"
   ]
  },
  {
   "cell_type": "code",
   "execution_count": 149,
   "metadata": {},
   "outputs": [],
   "source": [
    "#Resetting index\n",
    "df.reset_index(drop=True,inplace=True)"
   ]
  },
  {
   "cell_type": "code",
   "execution_count": 150,
   "metadata": {},
   "outputs": [
    {
     "data": {
      "text/plain": [
       "count                         453159\n",
       "unique                        453149\n",
       "top       2017-10-06 13:22:43.024000\n",
       "freq                               2\n",
       "first     2017-06-28 09:47:36.347000\n",
       "last      2017-12-31 23:59:01.261000\n",
       "Name: start_time, dtype: object"
      ]
     },
     "execution_count": 150,
     "metadata": {},
     "output_type": "execute_result"
    }
   ],
   "source": [
    "#Describe start time\n",
    "df['start_time'].describe()"
   ]
  },
  {
   "cell_type": "code",
   "execution_count": 151,
   "metadata": {},
   "outputs": [],
   "source": [
    "#creating new column start_time_month by extracting month from start_time\n",
    "df['start_time_month']=df['start_time'].map(lambda x: x.strftime('%B'))"
   ]
  },
  {
   "cell_type": "code",
   "execution_count": 152,
   "metadata": {},
   "outputs": [
    {
     "name": "stdout",
     "output_type": "stream",
     "text": [
      "<class 'pandas.core.frame.DataFrame'>\n",
      "RangeIndex: 453159 entries, 0 to 453158\n",
      "Data columns (total 16 columns):\n",
      "duration_sec               453159 non-null int64\n",
      "start_time                 453159 non-null datetime64[ns]\n",
      "end_time                   453159 non-null datetime64[ns]\n",
      "start_station_id           453159 non-null int64\n",
      "start_station_name         453159 non-null object\n",
      "start_station_latitude     453159 non-null float64\n",
      "start_station_longitude    453159 non-null float64\n",
      "end_station_id             453159 non-null int64\n",
      "end_station_name           453159 non-null object\n",
      "end_station_latitude       453159 non-null float64\n",
      "end_station_longitude      453159 non-null float64\n",
      "bike_id                    453159 non-null int64\n",
      "user_type                  453159 non-null object\n",
      "member_birth_year          453159 non-null float64\n",
      "member_gender              453159 non-null object\n",
      "start_time_month           453159 non-null object\n",
      "dtypes: datetime64[ns](2), float64(5), int64(4), object(5)\n",
      "memory usage: 55.3+ MB\n"
     ]
    }
   ],
   "source": [
    "#getting info\n",
    "df.info()"
   ]
  },
  {
   "cell_type": "code",
   "execution_count": 153,
   "metadata": {},
   "outputs": [],
   "source": [
    "#Creating new column member age from member birth year (calculated from 2019)\n",
    "df['member_age']=2019-df.member_birth_year"
   ]
  },
  {
   "cell_type": "code",
   "execution_count": 154,
   "metadata": {},
   "outputs": [],
   "source": [
    "#changing member age to integer\n",
    "df['member_age']=df['member_age'].astype(int)"
   ]
  },
  {
   "cell_type": "code",
   "execution_count": 155,
   "metadata": {},
   "outputs": [],
   "source": [
    "#changing member birth year to integer\n",
    "df['member_birth_year']=df['member_birth_year'].astype(int)"
   ]
  },
  {
   "cell_type": "code",
   "execution_count": 156,
   "metadata": {},
   "outputs": [
    {
     "data": {
      "text/plain": [
       "count    453159.000000\n",
       "mean         38.595213\n",
       "std          10.513488\n",
       "min          20.000000\n",
       "10%          27.000000\n",
       "20%          30.000000\n",
       "30%          32.000000\n",
       "40%          34.000000\n",
       "50%          36.000000\n",
       "60%          39.000000\n",
       "70%          42.000000\n",
       "75%          45.000000\n",
       "80%          47.000000\n",
       "90%          54.000000\n",
       "95%          58.000000\n",
       "max         133.000000\n",
       "Name: member_age, dtype: float64"
      ]
     },
     "execution_count": 156,
     "metadata": {},
     "output_type": "execute_result"
    }
   ],
   "source": [
    "# checking distribution of members age\n",
    "df['member_age'].describe(percentiles = [.1, .2, .3, .4, .5, .6, .7, .75, .8, .9, .95])"
   ]
  },
  {
   "cell_type": "markdown",
   "metadata": {},
   "source": [
    "> 95% of the members age fall under 58 with an average of 38 whereas the maximum age is being reflected as 133 which is an outlier.The system may better if the whole set of members age can be filtered within 58."
   ]
  },
  {
   "cell_type": "code",
   "execution_count": 157,
   "metadata": {},
   "outputs": [],
   "source": [
    "#Removing ages more than 58\n",
    "df=df[df['member_age']<=58]"
   ]
  },
  {
   "cell_type": "code",
   "execution_count": 158,
   "metadata": {},
   "outputs": [],
   "source": [
    "#Resetting index\n",
    "df.reset_index(drop=True,inplace=True)"
   ]
  },
  {
   "cell_type": "code",
   "execution_count": 159,
   "metadata": {},
   "outputs": [],
   "source": [
    "#Creating age groups\n",
    "df['member_age_group']=df['member_age'].apply(lambda x:'20-30' if 20<=x<30\n",
    "                                              else '30-40' if 30<=x<40\n",
    "                                              else '40-50' if 40<=x<50\n",
    "                                              else '50-60' if 50<=x<60\n",
    "                                              else x)"
   ]
  },
  {
   "cell_type": "code",
   "execution_count": 160,
   "metadata": {},
   "outputs": [],
   "source": [
    "#Create new column start time weekday by extracting days from start time\n",
    "df['start_time_weekday'] = df['start_time'].dt.strftime('%a')\n"
   ]
  },
  {
   "cell_type": "code",
   "execution_count": 161,
   "metadata": {},
   "outputs": [],
   "source": [
    "# Creating new columns start time hour and end time hour by changing start time and end time to hours\n",
    "df['start_time_hour'] = df['start_time'].dt.hour\n",
    "df['end_time_hour'] = df['end_time'].dt.hour"
   ]
  },
  {
   "cell_type": "code",
   "execution_count": 162,
   "metadata": {},
   "outputs": [],
   "source": [
    "#creating of new columns duration in minutes and hours\n",
    "df['duration_min']=df['duration_sec']/60\n",
    "df['duration_hour']=df['duration_min']/60"
   ]
  },
  {
   "cell_type": "code",
   "execution_count": 163,
   "metadata": {},
   "outputs": [],
   "source": [
    "# function to create categorical datatype\n",
    "def BuildCategoricalType(col_name):\n",
    "    level_order=list(df[col_name].value_counts().index)\n",
    "    ordered_cat=pd.api.types.CategoricalDtype(ordered=True,categories=level_order)\n",
    "    df[col_name]=df[col_name].astype(ordered_cat)"
   ]
  },
  {
   "cell_type": "code",
   "execution_count": 164,
   "metadata": {},
   "outputs": [],
   "source": [
    "# converting member_age_group to categorical\n",
    "BuildCategoricalType('member_age_group')"
   ]
  },
  {
   "cell_type": "code",
   "execution_count": 165,
   "metadata": {},
   "outputs": [],
   "source": [
    "# converting user_type to categorical\n",
    "BuildCategoricalType('user_type')"
   ]
  },
  {
   "cell_type": "code",
   "execution_count": 166,
   "metadata": {},
   "outputs": [],
   "source": [
    "# converting member_gender to categorical\n",
    "BuildCategoricalType('member_gender')"
   ]
  },
  {
   "cell_type": "code",
   "execution_count": 167,
   "metadata": {},
   "outputs": [
    {
     "name": "stdout",
     "output_type": "stream",
     "text": [
      "<class 'pandas.core.frame.DataFrame'>\n",
      "RangeIndex: 431332 entries, 0 to 431331\n",
      "Data columns (total 23 columns):\n",
      "duration_sec               431332 non-null int64\n",
      "start_time                 431332 non-null datetime64[ns]\n",
      "end_time                   431332 non-null datetime64[ns]\n",
      "start_station_id           431332 non-null int64\n",
      "start_station_name         431332 non-null object\n",
      "start_station_latitude     431332 non-null float64\n",
      "start_station_longitude    431332 non-null float64\n",
      "end_station_id             431332 non-null int64\n",
      "end_station_name           431332 non-null object\n",
      "end_station_latitude       431332 non-null float64\n",
      "end_station_longitude      431332 non-null float64\n",
      "bike_id                    431332 non-null int64\n",
      "user_type                  431332 non-null category\n",
      "member_birth_year          431332 non-null int32\n",
      "member_gender              431332 non-null category\n",
      "start_time_month           431332 non-null object\n",
      "member_age                 431332 non-null int32\n",
      "member_age_group           431332 non-null category\n",
      "start_time_weekday         431332 non-null object\n",
      "start_time_hour            431332 non-null int64\n",
      "end_time_hour              431332 non-null int64\n",
      "duration_min               431332 non-null float64\n",
      "duration_hour              431332 non-null float64\n",
      "dtypes: category(3), datetime64[ns](2), float64(6), int32(2), int64(6), object(4)\n",
      "memory usage: 63.8+ MB\n"
     ]
    }
   ],
   "source": [
    "#checking to see if the above function actually worked\n",
    "df.info()"
   ]
  },
  {
   "cell_type": "markdown",
   "metadata": {},
   "source": [
    "> Great! It works.\n",
    "\n",
    "Now it's time to concentrate on the position of start and end stations.It's quite important that only latitude and longitudinal positions have been provided, as a result I need to make it transform to cartesian distances format.I have used __Haversine Formula__ to calculate distances based on geographical latitude and longitude.(Sources: GeeksforGeeks)"
   ]
  },
  {
   "cell_type": "markdown",
   "metadata": {},
   "source": [
    "#### Distance between start station and end station based on latitude and longitude"
   ]
  },
  {
   "cell_type": "code",
   "execution_count": 168,
   "metadata": {},
   "outputs": [],
   "source": [
    "# importing math library\n",
    "import math\n",
    "from math import radians, sin, cos, acos\n",
    "\n",
    "def distance(origin, destination):\n",
    "\n",
    "    #radius has been measured as kilometer\n",
    "    lat1, long1 = origin\n",
    "    lat2, long2 = destination\n",
    "    radius = 6371 #radius of the Earth\n",
    "    \n",
    "\n",
    "    dlat = math.radians(lat2 - lat1)\n",
    "    dlong = math.radians(long2 - long1)\n",
    "    \n",
    "    a = (math.sin(dlat / 2) * math.sin(dlat / 2) + math.cos(math.radians(lat1)) * math.cos(math.radians(lat2)) * math.sin(dlong / 2) * math.sin(dlong / 2))\n",
    "    c = 2 * math.atan2(math.sqrt(a), math.sqrt(1 - a))\n",
    "    d = radius * c\n",
    "\n",
    "    return d"
   ]
  },
  {
   "cell_type": "code",
   "execution_count": 169,
   "metadata": {},
   "outputs": [],
   "source": [
    "# Using the calcuated math on our columns for lat and long\n",
    "df['distance_km'] = df.apply(lambda x: distance((x['start_station_latitude'], x['start_station_longitude']), (x['end_station_latitude'], x['end_station_longitude'])), axis=1)"
   ]
  },
  {
   "cell_type": "code",
   "execution_count": 171,
   "metadata": {},
   "outputs": [
    {
     "data": {
      "text/plain": [
       "count    431332.000000\n",
       "mean          1.605005\n",
       "std           0.983265\n",
       "min           0.000000\n",
       "50%           1.413348\n",
       "80%           2.246559\n",
       "90%           2.924935\n",
       "99%           4.691861\n",
       "max          62.293682\n",
       "Name: distance_km, dtype: float64"
      ]
     },
     "execution_count": 171,
     "metadata": {},
     "output_type": "execute_result"
    }
   ],
   "source": [
    "#Checking distance_km columns\n",
    "df['distance_km'].describe(percentiles=[.80,.90,.99])"
   ]
  },
  {
   "cell_type": "markdown",
   "metadata": {},
   "source": [
    "By analysing most of the distance(km) (around 99%) travelled are ranging from 1 km to 4 km (approx) with mean 1.6 km,whereas the max distance travelled is 62 km which is an outlier.Removing the outlier would make the dataset more concrete and relevant for further investigation.\n",
    "\n",
    "\n",
    "#### Finding max distance travelled by user"
   ]
  },
  {
   "cell_type": "code",
   "execution_count": 172,
   "metadata": {},
   "outputs": [
    {
     "data": {
      "text/html": [
       "<div>\n",
       "<style scoped>\n",
       "    .dataframe tbody tr th:only-of-type {\n",
       "        vertical-align: middle;\n",
       "    }\n",
       "\n",
       "    .dataframe tbody tr th {\n",
       "        vertical-align: top;\n",
       "    }\n",
       "\n",
       "    .dataframe thead th {\n",
       "        text-align: right;\n",
       "    }\n",
       "</style>\n",
       "<table border=\"1\" class=\"dataframe\">\n",
       "  <thead>\n",
       "    <tr style=\"text-align: right;\">\n",
       "      <th></th>\n",
       "      <th>duration_sec</th>\n",
       "      <th>start_time</th>\n",
       "      <th>end_time</th>\n",
       "      <th>start_station_id</th>\n",
       "      <th>start_station_name</th>\n",
       "      <th>start_station_latitude</th>\n",
       "      <th>start_station_longitude</th>\n",
       "      <th>end_station_id</th>\n",
       "      <th>end_station_name</th>\n",
       "      <th>end_station_latitude</th>\n",
       "      <th>...</th>\n",
       "      <th>member_gender</th>\n",
       "      <th>start_time_month</th>\n",
       "      <th>member_age</th>\n",
       "      <th>member_age_group</th>\n",
       "      <th>start_time_weekday</th>\n",
       "      <th>start_time_hour</th>\n",
       "      <th>end_time_hour</th>\n",
       "      <th>duration_min</th>\n",
       "      <th>duration_hour</th>\n",
       "      <th>distance_km</th>\n",
       "    </tr>\n",
       "  </thead>\n",
       "  <tbody>\n",
       "    <tr>\n",
       "      <th>159303</th>\n",
       "      <td>5471</td>\n",
       "      <td>2017-10-31 07:57:18.251</td>\n",
       "      <td>2017-10-31 09:28:29.835</td>\n",
       "      <td>195</td>\n",
       "      <td>Bay Pl at Vernon St</td>\n",
       "      <td>37.812314</td>\n",
       "      <td>-122.260779</td>\n",
       "      <td>312</td>\n",
       "      <td>San Jose Diridon Station</td>\n",
       "      <td>37.329732</td>\n",
       "      <td>...</td>\n",
       "      <td>Male</td>\n",
       "      <td>October</td>\n",
       "      <td>43</td>\n",
       "      <td>40-50</td>\n",
       "      <td>Tue</td>\n",
       "      <td>7</td>\n",
       "      <td>9</td>\n",
       "      <td>91.183333</td>\n",
       "      <td>1.519722</td>\n",
       "      <td>62.293682</td>\n",
       "    </tr>\n",
       "    <tr>\n",
       "      <th>315763</th>\n",
       "      <td>5642</td>\n",
       "      <td>2017-09-07 07:07:21.130</td>\n",
       "      <td>2017-09-07 08:41:23.461</td>\n",
       "      <td>195</td>\n",
       "      <td>Bay Pl at Vernon St</td>\n",
       "      <td>37.812314</td>\n",
       "      <td>-122.260779</td>\n",
       "      <td>312</td>\n",
       "      <td>San Jose Diridon Station</td>\n",
       "      <td>37.329732</td>\n",
       "      <td>...</td>\n",
       "      <td>Male</td>\n",
       "      <td>September</td>\n",
       "      <td>43</td>\n",
       "      <td>40-50</td>\n",
       "      <td>Thu</td>\n",
       "      <td>7</td>\n",
       "      <td>8</td>\n",
       "      <td>94.033333</td>\n",
       "      <td>1.567222</td>\n",
       "      <td>62.293682</td>\n",
       "    </tr>\n",
       "  </tbody>\n",
       "</table>\n",
       "<p>2 rows × 24 columns</p>\n",
       "</div>"
      ],
      "text/plain": [
       "        duration_sec              start_time                end_time  \\\n",
       "159303          5471 2017-10-31 07:57:18.251 2017-10-31 09:28:29.835   \n",
       "315763          5642 2017-09-07 07:07:21.130 2017-09-07 08:41:23.461   \n",
       "\n",
       "        start_station_id   start_station_name  start_station_latitude  \\\n",
       "159303               195  Bay Pl at Vernon St               37.812314   \n",
       "315763               195  Bay Pl at Vernon St               37.812314   \n",
       "\n",
       "        start_station_longitude  end_station_id          end_station_name  \\\n",
       "159303              -122.260779             312  San Jose Diridon Station   \n",
       "315763              -122.260779             312  San Jose Diridon Station   \n",
       "\n",
       "        end_station_latitude  ...  member_gender  start_time_month member_age  \\\n",
       "159303             37.329732  ...           Male           October         43   \n",
       "315763             37.329732  ...           Male         September         43   \n",
       "\n",
       "        member_age_group start_time_weekday start_time_hour  end_time_hour  \\\n",
       "159303             40-50                Tue               7              9   \n",
       "315763             40-50                Thu               7              8   \n",
       "\n",
       "       duration_min duration_hour  distance_km  \n",
       "159303    91.183333      1.519722    62.293682  \n",
       "315763    94.033333      1.567222    62.293682  \n",
       "\n",
       "[2 rows x 24 columns]"
      ]
     },
     "execution_count": 172,
     "metadata": {},
     "output_type": "execute_result"
    }
   ],
   "source": [
    "max_distance=df.distance_km.max()\n",
    "df[df.distance_km==max_distance]"
   ]
  },
  {
   "cell_type": "markdown",
   "metadata": {},
   "source": [
    "There exists only two cases where user has travelled the maximum distance,this instances can be eliminated as it won't affect the distributions.\n",
    "\n",
    "\n",
    "#### Removing the max distance travelled by users"
   ]
  },
  {
   "cell_type": "code",
   "execution_count": 173,
   "metadata": {},
   "outputs": [],
   "source": [
    "max_distance=df.distance_km.max()\n",
    "#max_distance\n",
    "df=df[(df['distance_km']==max_distance)==False]"
   ]
  },
  {
   "cell_type": "code",
   "execution_count": 174,
   "metadata": {},
   "outputs": [],
   "source": [
    "#resetting index\n",
    "df.reset_index(drop=True,inplace=True)"
   ]
  },
  {
   "cell_type": "code",
   "execution_count": 175,
   "metadata": {},
   "outputs": [
    {
     "name": "stdout",
     "output_type": "stream",
     "text": [
      "<class 'pandas.core.frame.DataFrame'>\n",
      "RangeIndex: 431330 entries, 0 to 431329\n",
      "Data columns (total 24 columns):\n",
      "duration_sec               431330 non-null int64\n",
      "start_time                 431330 non-null datetime64[ns]\n",
      "end_time                   431330 non-null datetime64[ns]\n",
      "start_station_id           431330 non-null int64\n",
      "start_station_name         431330 non-null object\n",
      "start_station_latitude     431330 non-null float64\n",
      "start_station_longitude    431330 non-null float64\n",
      "end_station_id             431330 non-null int64\n",
      "end_station_name           431330 non-null object\n",
      "end_station_latitude       431330 non-null float64\n",
      "end_station_longitude      431330 non-null float64\n",
      "bike_id                    431330 non-null int64\n",
      "user_type                  431330 non-null category\n",
      "member_birth_year          431330 non-null int32\n",
      "member_gender              431330 non-null category\n",
      "start_time_month           431330 non-null object\n",
      "member_age                 431330 non-null int32\n",
      "member_age_group           431330 non-null category\n",
      "start_time_weekday         431330 non-null object\n",
      "start_time_hour            431330 non-null int64\n",
      "end_time_hour              431330 non-null int64\n",
      "duration_min               431330 non-null float64\n",
      "duration_hour              431330 non-null float64\n",
      "distance_km                431330 non-null float64\n",
      "dtypes: category(3), datetime64[ns](2), float64(7), int32(2), int64(6), object(4)\n",
      "memory usage: 67.1+ MB\n"
     ]
    }
   ],
   "source": [
    "df.info()"
   ]
  },
  {
   "cell_type": "markdown",
   "metadata": {},
   "source": [
    "### What is the structure of your dataset?\n",
    "\n",
    "> After wrangling the necessary data, the final dataset contains 431330 rows and 24 columns\n",
    "\n",
    "### What is/are the main feature(s) of interest in your dataset?\n",
    "\n",
    "> Considering all the features from the Ford Bike Share data,duration of bike rides,members age,members gender,consumer type are the main features of my interest.\n",
    " \n",
    "\n",
    "### What features in the dataset do you think will help support your investigation into your feature(s) of interest?\n",
    "\n",
    "> Features related to distance between two stations,start time of the bike rides etc will help here to support the mail features"
   ]
  },
  {
   "cell_type": "markdown",
   "metadata": {},
   "source": [
    "## Univariate Exploration\n"
   ]
  },
  {
   "cell_type": "markdown",
   "metadata": {},
   "source": [
    "#### Distribution of members ages with number of bike ride count"
   ]
  },
  {
   "cell_type": "code",
   "execution_count": 214,
   "metadata": {},
   "outputs": [
    {
     "data": {
      "image/png": "[encoded data removed]",
      "text/plain": [
       "<Figure size 432x288 with 1 Axes>"
      ]
     },
     "metadata": {
      "needs_background": "light"
     },
     "output_type": "display_data"
    }
   ],
   "source": [
    "plt.figure(figsize=[6,4])\n",
    "bin_size=np.arange(10,max(df['member_age'])+5,5)\n",
    "plt.hist(data=df,x=df['member_age'],bins=bin_size)\n",
    "plt.xlabel('Age distribution',fontsize=10)\n",
    "plt.ylabel('Bike ride count',fontsize=10)\n",
    "plt.title('No of rides vs members age',fontsize=12);"
   ]
  },
  {
   "cell_type": "markdown",
   "metadata": {},
   "source": [
    "#### Inferences:\n",
    "1. User's age started with from 20 with the ending cap before 60.\n",
    "2. Most of the bike rides are carried away by age group between 30 to 35.\n",
    "3. Distribution is single modal with having skewness on the right."
   ]
  },
  {
   "cell_type": "markdown",
   "metadata": {},
   "source": [
    "#### Member age distribution"
   ]
  },
  {
   "cell_type": "code",
   "execution_count": 56,
   "metadata": {},
   "outputs": [
    {
     "data": {
      "image/png": "[encoded data removed]",
      "text/plain": [
       "<Figure size 432x288 with 1 Axes>"
      ]
     },
     "metadata": {
      "needs_background": "light"
     },
     "output_type": "display_data"
    }
   ],
   "source": [
    "#making boxplot from members age data\n",
    "sb.boxplot(data=df,x='member_age');"
   ]
  },
  {
   "cell_type": "markdown",
   "metadata": {},
   "source": [
    "#### Inferences\n",
    "1. Lowest age is around 20\n",
    "2. Highest age is around 58\n",
    "3. 25% of ages are at 30\n",
    "4. 75% of ages lie within 40 to 45\n",
    "5. Median of all ages lie within 35 to 36"
   ]
  },
  {
   "cell_type": "code",
   "execution_count": 219,
   "metadata": {},
   "outputs": [],
   "source": [
    "#Function to find out top 5 most popular stations\n",
    "def findpopularstation(station_category):\n",
    "    #extracting top 5 values\n",
    "    x=df[station_category].value_counts()[0:5].index\n",
    "    y=df[station_category].value_counts()[0:5]\n",
    "    #making dictionary\n",
    "    frame={'City':x,'Count':y}\n",
    "    df1=pd.DataFrame(frame)\n",
    "    df1.reset_index(drop=True,inplace=True)\n",
    "    plt.figure(figsize=[10,4])\n",
    "    base_color=sb.color_palette()[0]\n",
    "    plt.title(\"Top five most popular bike station as per {}\".format(station_category),fontsize=15)\n",
    "    #creating bar plot\n",
    "    sb.barplot(x=\"Count\",y=\"City\",data=df1,color=base_color);"
   ]
  },
  {
   "cell_type": "code",
   "execution_count": 220,
   "metadata": {
    "scrolled": true
   },
   "outputs": [
    {
     "data": {
      "image/png": "[encoded data removed]",
      "text/plain": [
       "<Figure size 720x288 with 1 Axes>"
      ]
     },
     "metadata": {
      "needs_background": "light"
     },
     "output_type": "display_data"
    }
   ],
   "source": [
    "#calling method for the start station name\n",
    "findpopularstation('start_station_name')"
   ]
  },
  {
   "cell_type": "code",
   "execution_count": 221,
   "metadata": {},
   "outputs": [
    {
     "data": {
      "image/png": "[encoded data removed]",
      "text/plain": [
       "<Figure size 720x288 with 1 Axes>"
      ]
     },
     "metadata": {
      "needs_background": "light"
     },
     "output_type": "display_data"
    }
   ],
   "source": [
    "#calling method for the start station name\n",
    "findpopularstation('end_station_name')"
   ]
  },
  {
   "cell_type": "markdown",
   "metadata": {},
   "source": [
    "#### Inferences\n",
    "\n",
    "1. Most popular station is __San Fancisco caltrain (Townsend St at 4th St)__ according to both start station and end station\n",
    "2. There are 4 stations in common which lies on both the popularity list.\n",
    "\n",
    "\n",
    "\n",
    "#### User Type count Analysis (to check percentage of subcriber and customer)"
   ]
  },
  {
   "cell_type": "code",
   "execution_count": 60,
   "metadata": {},
   "outputs": [
    {
     "data": {
      "image/png": "[encoded data removed]",
      "text/plain": [
       "<Figure size 432x288 with 1 Axes>"
      ]
     },
     "metadata": {
      "needs_background": "light"
     },
     "output_type": "display_data"
    }
   ],
   "source": [
    "#setting base color for the diagram\n",
    "base_color=sb.color_palette()[0]\n",
    "plt.title(\"User Type Count Analysis\")\n",
    "#storing the value of total users\n",
    "total_user=df.shape[0]\n",
    "sb.barplot(x=df['user_type'].value_counts().index,y=df['user_type'].value_counts(),color=base_color);\n",
    "locs,labels=plt.xticks()\n",
    "\n",
    "cat_counts=df['user_type'].value_counts()\n",
    "for loc, label in zip(locs, labels):\n",
    "\n",
    "    # get the text property for the label to get the correct count\n",
    "    count = cat_counts[label.get_text()]\n",
    "    pct_string = '{:0.1f}%'.format(100*count/total_user)\n",
    "\n",
    "    # print the annotation just below the top of the bar\n",
    "    plt.text(loc, count-20000, pct_string, ha = 'center', color = 'w')\n"
   ]
  },
  {
   "cell_type": "markdown",
   "metadata": {},
   "source": [
    "#### Inferences\n",
    "\n",
    "1. It can be observed that people have more inclination towards taking permananet subscription rather single booking.\n",
    "2. Practically, 89% users come from subscribers whereas 11% are only single customers.\n",
    "\n",
    "#### Number of users according to age group"
   ]
  },
  {
   "cell_type": "code",
   "execution_count": 223,
   "metadata": {},
   "outputs": [
    {
     "data": {
      "text/plain": [
       "member_age_group\n",
       "30-40    201066\n",
       "40-50     96120\n",
       "20-30     82088\n",
       "50-60     52056\n",
       "dtype: int64"
      ]
     },
     "execution_count": 223,
     "metadata": {},
     "output_type": "execute_result"
    }
   ],
   "source": [
    "df.groupby('member_age_group').size()"
   ]
  },
  {
   "cell_type": "code",
   "execution_count": 240,
   "metadata": {},
   "outputs": [
    {
     "data": {
      "image/png": "[encoded data removed]",
      "text/plain": [
       "<Figure size 720x360 with 1 Axes>"
      ]
     },
     "metadata": {
      "needs_background": "light"
     },
     "output_type": "display_data"
    }
   ],
   "source": [
    "#setting base color\n",
    "base_color=sb.color_palette()[0]\n",
    "plt.figure(figsize=[10,5])\n",
    "order=df.member_age_group.value_counts().index\n",
    "sb.countplot(data=df,x='member_age_group',color=base_color,order=order)\n",
    "plt.xlabel('Member age group',fontsize=12)\n",
    "plt.ylabel('User Count',fontsize=12)\n",
    "total_user=df.shape[0]\n",
    "for i in ax.patches:\n",
    "    ax.text(i.get_x(), i.get_height()-12500,str(round((i.get_height()/total_user)*100, 2))+'%', fontsize=15,color='white')\n",
    "plt.title('User count vs Member Age Group',fontsize=15);"
   ]
  },
  {
   "cell_type": "markdown",
   "metadata": {},
   "source": [
    "#### Inferences\n",
    "\n",
    "1. Most users come from within 30-40 age group.\n",
    "2. People aging between 50-60 have less user count.\n",
    "\n",
    "#### Bike ride distribution according to month"
   ]
  },
  {
   "cell_type": "code",
   "execution_count": 130,
   "metadata": {},
   "outputs": [
    {
     "data": {
      "image/png": "[encoded data removed]",
      "text/plain": [
       "<Figure size 720x360 with 1 Axes>"
      ]
     },
     "metadata": {
      "needs_background": "light"
     },
     "output_type": "display_data"
    }
   ],
   "source": [
    "#setting index order\n",
    "order=df['start_time_month'].value_counts().index\n",
    "cat_count=df['start_time_month'].value_counts()\n",
    "#finding total count\n",
    "tot_count=cat_count.sum()\n",
    "plt.figure(figsize=[10,5])\n",
    "base_color=sb.color_palette()[0]\n",
    "sb.countplot(data=df,x='start_time_month',palette='viridis',order=order)\n",
    "locs,labels=plt.xticks()\n",
    "plt.title('Distribution of bike rides according to month')\n",
    "plt.xlabel('Month')\n",
    "plt.ylabel('No of Bike rides')\n",
    "#plot annotation\n",
    "for loc,label in zip(locs,labels):\n",
    "    count=cat_count[label.get_text()]\n",
    "    add_text='{:0.1f}%'.format(count*100/tot_count)\n",
    "    plt.text(loc,count+1000,add_text,ha='center')"
   ]
  },
  {
   "cell_type": "markdown",
   "metadata": {},
   "source": [
    "#### Inferences\n",
    "\n",
    "1. Users mostly ride on October followed by November.\n",
    "2. There exists less difference between number of people who opt for November than September.\n",
    "3. In June, people have the least count of bike rides.\n",
    "\n",
    "#### Finding High Demand of Bike ride hours in a day"
   ]
  },
  {
   "cell_type": "code",
   "execution_count": 193,
   "metadata": {},
   "outputs": [
    {
     "data": {
      "image/png": "[encoded data removed]",
      "text/plain": [
       "<Figure size 720x360 with 1 Axes>"
      ]
     },
     "metadata": {
      "needs_background": "light"
     },
     "output_type": "display_data"
    }
   ],
   "source": [
    "plt.figure(figsize=(10,5))\n",
    "#extracting values in a sample dataframe\n",
    "df1=df.groupby(['start_time_hour'],as_index=False)['bike_id'].count()\n",
    "df1['percentg_count']=(np.array(df1.bike_id)/df.shape[0])*100\n",
    "#setting point plot\n",
    "sb.pointplot(data=df1,x='start_time_hour',y='percentg_count',color='blue')\n",
    "plt.xlabel(\"Start time hour\",fontsize=14)\n",
    "plt.ylabel(\"Percentage bike ride\",fontsize=14)\n",
    "plt.title(\"Peak hours of bike ride\",fontsize=16);"
   ]
  },
  {
   "cell_type": "markdown",
   "metadata": {},
   "source": [
    "#### Inferences\n",
    "\n",
    "1. There exists two peak points where ride demand was high.\n",
    "2. Most ride took place at 8 am at morning and again 6 pm in evening.\n",
    "3. There is a snip dip of ride demand between 11 am to 15 am and again it shoot up."
   ]
  },
  {
   "cell_type": "markdown",
   "metadata": {},
   "source": [
    "## Bivariate Exploration\n",
    "\n"
   ]
  },
  {
   "cell_type": "markdown",
   "metadata": {},
   "source": [
    "#### Distribution of Distance covered with respect to age group and gender group"
   ]
  },
  {
   "cell_type": "code",
   "execution_count": 241,
   "metadata": {},
   "outputs": [
    {
     "data": {
      "image/png": "[encoded data removed]",
      "text/plain": [
       "<Figure size 720x360 with 2 Axes>"
      ]
     },
     "metadata": {
      "needs_background": "light"
     },
     "output_type": "display_data"
    }
   ],
   "source": [
    "plt.figure(figsize = [10, 5])\n",
    "base_color = sb.color_palette()[0]\n",
    "\n",
    "# left plot: Box plot\n",
    "plt.subplot(1, 2, 1)\n",
    "ax1 = sb.boxplot(data = df, x = 'member_age_group', y = 'distance_km', color = base_color)\n",
    "plt.xlabel('Member Age Group',fontsize=12)\n",
    "plt.ylabel('Distance Travelled in KM',fontsize=12)\n",
    "plt.title('Distance covered vs. Member Age Group')\n",
    "plt.ylim()\n",
    "\n",
    "# right plot: box plot\n",
    "plt.subplot(1, 2, 2)\n",
    "ax2=sb.boxplot(data = df, x = 'member_gender', y = 'distance_km', color = base_color)\n",
    "plt.xlabel('Member Gender Group',fontsize=12)\n",
    "plt.ylabel('Distance Travelled in KM',fontsize=12)\n",
    "plt.title('Distance covered vs. Member Gender Group');\n"
   ]
  },
  {
   "cell_type": "markdown",
   "metadata": {},
   "source": [
    "#### Inferences\n",
    "\n",
    "1. People aging between 20 to 30 and 30 to 40 usually crossed much distance\n",
    "2. Male members travelled much distance\n"
   ]
  },
  {
   "cell_type": "markdown",
   "metadata": {},
   "source": []
  },
  {
   "cell_type": "code",
   "execution_count": 252,
   "metadata": {},
   "outputs": [
    {
     "data": {
      "image/png": "[encoded data removed]",
      "text/plain": [
       "<Figure size 864x576 with 2 Axes>"
      ]
     },
     "metadata": {
      "needs_background": "light"
     },
     "output_type": "display_data"
    }
   ],
   "source": [
    "plt.figure(figsize=[12,8])\n",
    "#fig, axes = plt.subplots(nrows=4, ncols=1)\n",
    "base_color=sb.color_palette()[0]\n",
    "plt.subplot(2,1,1)\n",
    "df1=df.groupby(['start_time_month','start_time_weekday'],as_index=False)['duration_sec'].mean()\n",
    "sb.boxplot(data=df1,x='start_time_month',y='duration_sec',color=base_color)\n",
    "plt.xlabel('Start Time Month',fontsize=12)\n",
    "plt.ylabel('Duration of bike ride in seconds',fontsize=12)\n",
    "plt.title('Duration of bike rides w.r.t start time month',fontsize=14)\n",
    "\n",
    "plt.subplots_adjust(wspace=1.5, hspace=1.5)\n",
    "plt.subplot(2,1,2)\n",
    "df1=df.groupby(['start_time_month','start_time_weekday'],as_index=False)['duration_sec'].mean()\n",
    "sb.boxplot(data=df1,x='start_time_weekday',y='duration_sec',color=base_color)\n",
    "plt.xlabel('Start Time Weekday',fontsize=12)\n",
    "plt.ylabel('Duration of bike ride in seconds',fontsize=12)\n",
    "plt.title('Duration of bike rides w.r.t start time weekday',fontsize=14);"
   ]
  },
  {
   "cell_type": "markdown",
   "metadata": {},
   "source": [
    "#### Inferences\n",
    "\n",
    "1. In month August had the high demand of bike rides.\n",
    "2. People mostly opt for the rides during Saturday and Sundays.\n",
    "\n",
    "\n",
    "\n",
    "#### Bivariate analysis of customer usage during weekdays"
   ]
  },
  {
   "cell_type": "code",
   "execution_count": 253,
   "metadata": {},
   "outputs": [
    {
     "data": {
      "image/png": "[encoded data removed]",
      "text/plain": [
       "<Figure size 864x360 with 1 Axes>"
      ]
     },
     "metadata": {
      "needs_background": "light"
     },
     "output_type": "display_data"
    }
   ],
   "source": [
    "# Customer Usage by Weekday vs. Subscriber Usage by Weekday\n",
    "plt.figure(figsize=(12, 5))\n",
    "\n",
    "df_weekday = df.groupby(['start_time_weekday', 'user_type']).size().reset_index()\n",
    "weekday = ['Mon', 'Tue', 'Wed', 'Thu', 'Fri', 'Sat', 'Sun']\n",
    "\n",
    "ax = sb.pointplot(data=df_weekday, x='start_time_weekday', y=0, hue = 'user_type', order = weekday);\n",
    "\n",
    "plt.title('Analysis of customer usage in weekdays',  fontsize=12)\n",
    "plt.xlabel('Weekdays')\n",
    "plt.ylabel('Bike Trips count');"
   ]
  },
  {
   "cell_type": "markdown",
   "metadata": {},
   "source": [
    "#### Inferences\n",
    "\n",
    "1. People have more inclination towards taking subscription ride rather than single ride.\n",
    "2. Subscribed customers have high trend during weekdays and fall down during weekends(Sat and Sun).\n",
    "3. There is sharp increase in usage statistics for normal customer during weekends."
   ]
  },
  {
   "cell_type": "markdown",
   "metadata": {},
   "source": [
    "#### Member Gender Analysis for subcriber and customer"
   ]
  },
  {
   "cell_type": "code",
   "execution_count": 262,
   "metadata": {},
   "outputs": [
    {
     "data": {
      "image/png": "[encoded data removed]",
      "text/plain": [
       "<Figure size 432x288 with 2 Axes>"
      ]
     },
     "metadata": {
      "needs_background": "light"
     },
     "output_type": "display_data"
    }
   ],
   "source": [
    "#Extracting values by group by user types and genders\n",
    "ct_counts = df.groupby(['user_type', 'member_gender']).size()\n",
    "ct_counts = ct_counts.reset_index(name = 'count')\n",
    "#setting pivots\n",
    "ct_counts = ct_counts.pivot(index = 'member_gender', columns = 'user_type', values = 'count')\n",
    "plt.xlabel('User Type',fontsize=12)\n",
    "plt.ylabel('Member Gender',fontsize=12)\n",
    "plt.title('Count of subscriber and customer according to gender',fontsize=14)\n",
    "sb.heatmap(ct_counts,annot=True,cmap = 'viridis_r',linewidths=.5);"
   ]
  },
  {
   "cell_type": "markdown",
   "metadata": {},
   "source": [
    "#### Inferences\n",
    "\n",
    "1. People mostly belonging from subscriber and male community.\n",
    "2. Least users are from customer who belong to other community.\n",
    "3. The other community members have low counts of usage."
   ]
  },
  {
   "cell_type": "markdown",
   "metadata": {},
   "source": [
    "## Multivariate Exploration\n",
    "\n",
    "#### Distance covered relationship with member age group and member gender"
   ]
  },
  {
   "cell_type": "code",
   "execution_count": 264,
   "metadata": {},
   "outputs": [
    {
     "data": {
      "text/html": [
       "<div>\n",
       "<style scoped>\n",
       "    .dataframe tbody tr th:only-of-type {\n",
       "        vertical-align: middle;\n",
       "    }\n",
       "\n",
       "    .dataframe tbody tr th {\n",
       "        vertical-align: top;\n",
       "    }\n",
       "\n",
       "    .dataframe thead th {\n",
       "        text-align: right;\n",
       "    }\n",
       "</style>\n",
       "<table border=\"1\" class=\"dataframe\">\n",
       "  <thead>\n",
       "    <tr style=\"text-align: right;\">\n",
       "      <th></th>\n",
       "      <th>member_age_group</th>\n",
       "      <th>member_gender</th>\n",
       "      <th>distance_km</th>\n",
       "    </tr>\n",
       "  </thead>\n",
       "  <tbody>\n",
       "    <tr>\n",
       "      <th>0</th>\n",
       "      <td>30-40</td>\n",
       "      <td>Male</td>\n",
       "      <td>1.613986</td>\n",
       "    </tr>\n",
       "    <tr>\n",
       "      <th>1</th>\n",
       "      <td>30-40</td>\n",
       "      <td>Female</td>\n",
       "      <td>1.683353</td>\n",
       "    </tr>\n",
       "    <tr>\n",
       "      <th>2</th>\n",
       "      <td>30-40</td>\n",
       "      <td>Other</td>\n",
       "      <td>1.877690</td>\n",
       "    </tr>\n",
       "    <tr>\n",
       "      <th>3</th>\n",
       "      <td>40-50</td>\n",
       "      <td>Male</td>\n",
       "      <td>1.580306</td>\n",
       "    </tr>\n",
       "    <tr>\n",
       "      <th>4</th>\n",
       "      <td>40-50</td>\n",
       "      <td>Female</td>\n",
       "      <td>1.571371</td>\n",
       "    </tr>\n",
       "    <tr>\n",
       "      <th>5</th>\n",
       "      <td>40-50</td>\n",
       "      <td>Other</td>\n",
       "      <td>1.566548</td>\n",
       "    </tr>\n",
       "    <tr>\n",
       "      <th>6</th>\n",
       "      <td>20-30</td>\n",
       "      <td>Male</td>\n",
       "      <td>1.570973</td>\n",
       "    </tr>\n",
       "    <tr>\n",
       "      <th>7</th>\n",
       "      <td>20-30</td>\n",
       "      <td>Female</td>\n",
       "      <td>1.696353</td>\n",
       "    </tr>\n",
       "    <tr>\n",
       "      <th>8</th>\n",
       "      <td>20-30</td>\n",
       "      <td>Other</td>\n",
       "      <td>1.289958</td>\n",
       "    </tr>\n",
       "    <tr>\n",
       "      <th>9</th>\n",
       "      <td>50-60</td>\n",
       "      <td>Male</td>\n",
       "      <td>1.515096</td>\n",
       "    </tr>\n",
       "    <tr>\n",
       "      <th>10</th>\n",
       "      <td>50-60</td>\n",
       "      <td>Female</td>\n",
       "      <td>1.711322</td>\n",
       "    </tr>\n",
       "    <tr>\n",
       "      <th>11</th>\n",
       "      <td>50-60</td>\n",
       "      <td>Other</td>\n",
       "      <td>1.393917</td>\n",
       "    </tr>\n",
       "  </tbody>\n",
       "</table>\n",
       "</div>"
      ],
      "text/plain": [
       "   member_age_group member_gender  distance_km\n",
       "0             30-40          Male     1.613986\n",
       "1             30-40        Female     1.683353\n",
       "2             30-40         Other     1.877690\n",
       "3             40-50          Male     1.580306\n",
       "4             40-50        Female     1.571371\n",
       "5             40-50         Other     1.566548\n",
       "6             20-30          Male     1.570973\n",
       "7             20-30        Female     1.696353\n",
       "8             20-30         Other     1.289958\n",
       "9             50-60          Male     1.515096\n",
       "10            50-60        Female     1.711322\n",
       "11            50-60         Other     1.393917"
      ]
     },
     "execution_count": 264,
     "metadata": {},
     "output_type": "execute_result"
    }
   ],
   "source": [
    "#extract data based on member age group and gender\n",
    "df.groupby(['member_age_group','member_gender'],as_index=False)['distance_km'].mean()"
   ]
  },
  {
   "cell_type": "code",
   "execution_count": 267,
   "metadata": {},
   "outputs": [
    {
     "data": {
      "image/png": "[encoded data removed]",
      "text/plain": [
       "<Figure size 720x360 with 1 Axes>"
      ]
     },
     "metadata": {
      "needs_background": "light"
     },
     "output_type": "display_data"
    }
   ],
   "source": [
    "plt.figure(figsize=(10,5))\n",
    "df1=df.groupby(['member_age_group','member_gender'],as_index=False)['distance_km'].mean()\n",
    "ax=sb.barplot(data=df1,x='member_age_group',y='distance_km',hue='member_gender')\n",
    "ax.legend(loc=1,ncol=3)\n",
    "plt.title('Average Distance travelled by member age groups according to member gender',fontsize=16)\n",
    "plt.xlabel('Member Age Group',fontsize=12)\n",
    "#for p in ax.patches:\n",
    "    #ax.annotate('{:.0f}'.format(p.get_height()), (p.get_x(), p.get_height()))\n",
    "plt.ylabel('Distance in Kilometer',fontsize=12);"
   ]
  },
  {
   "cell_type": "markdown",
   "metadata": {},
   "source": [
    "#### Inferences\n",
    "\n",
    "1. Contrary to what we have seen previous visualization,here male community from all ages travelled almost a fixed average distance.\n",
    "2. On an average people across all genders and ages have covered 1 km distances frequently.\n",
    "3. People from other community covered maximum distance in average in the age group of 30 to 40.\n",
    "\n",
    "#### Creating Plot Matrix"
   ]
  },
  {
   "cell_type": "code",
   "execution_count": 281,
   "metadata": {},
   "outputs": [
    {
     "data": {
      "image/png": "[encoded data removed]",
      "text/plain": [
       "<Figure size 720x720 with 20 Axes>"
      ]
     },
     "metadata": {
      "needs_background": "light"
     },
     "output_type": "display_data"
    }
   ],
   "source": [
    "#extracting numerical variables\n",
    "#plt.title('Multivariate analysis of distance,age,start time hour and duration',fontsize=14)\n",
    "num_variables=['distance_km', 'member_age', 'start_time_hour','duration_sec']\n",
    "g = sb.PairGrid(data = df, vars = num_variables)\n",
    "g.map_diag(plt.hist)\n",
    "g.map_offdiag(plt.scatter);"
   ]
  },
  {
   "cell_type": "code",
   "execution_count": 280,
   "metadata": {},
   "outputs": [
    {
     "data": {
      "image/png": "[encoded data removed]",
      "text/plain": [
       "<Figure size 720x360 with 2 Axes>"
      ]
     },
     "metadata": {
      "needs_background": "light"
     },
     "output_type": "display_data"
    }
   ],
   "source": [
    "#creating heatmap among numerical variables\n",
    "num_variables=['distance_km', 'member_age', 'start_time_hour','duration_sec']\n",
    "plt.figure(figsize=[10,5])\n",
    "sb.heatmap(df[num_variables].corr(), annot = True, fmt = '.2f', cmap = 'vlag_r', center = 0);"
   ]
  },
  {
   "cell_type": "markdown",
   "metadata": {},
   "source": [
    "### Talk about some of the relationships you observed in this part of the investigation. Were there features that strengthened each other in terms of looking at your feature(s) of interest?\n",
    "\n",
    "> Here I have rendered among different numerical variables which explains the relationships among users distance travelled,their journey start time,age details and durationof travel.While investigating it can be seen that distance and duration have positive co relation with less co relational co efficient value which is quite true since the more distance travelled by user would take up more time on it.Also people aging between 20-30 have less incilination towards taking bike ride rather than people of much older than them\n",
    "### Were there any interesting or surprising interactions between features?\n",
    "\n",
    "> The investigation shows much reward as it throws some interesting feature among 'other' gender community.They have now come up with taking bike rides across all the ages covering much average distances."
   ]
  },
  {
   "cell_type": "markdown",
   "metadata": {},
   "source": []
  },
  {
   "cell_type": "code",
   "execution_count": null,
   "metadata": {},
   "outputs": [],
   "source": []
  }
 ],
 "metadata": {
  "kernelspec": {
   "display_name": "Python 3",
   "language": "python",
   "name": "python3"
  },
  "language_info": {
   "codemirror_mode": {
    "name": "ipython",
    "version": 3
   },
   "file_extension": ".py",
   "mimetype": "text/x-python",
   "name": "python",
   "nbconvert_exporter": "python",
   "pygments_lexer": "ipython3",
   "version": "3.7.3"
  }
 },
 "nbformat": 4,
 "nbformat_minor": 2
}
